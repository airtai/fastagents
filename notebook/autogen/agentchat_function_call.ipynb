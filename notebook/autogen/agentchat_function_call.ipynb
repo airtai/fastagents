{
 "cells": [
  {
   "attachments": {},
   "cell_type": "markdown",
   "id": "ae1f50ec",
   "metadata": {},
   "source": [
    "<a href=\"https://colab.research.google.com/github/airtai/fastagents/blob/main/notebook/autogen/agentchat_function_call.ipynb\" target=\"_parent\"><img src=\"https://colab.research.google.com/assets/colab-badge.svg\" alt=\"Open In Colab\"/></a>"
   ]
  },
  {
   "attachments": {},
   "cell_type": "markdown",
   "id": "9a71fa36",
   "metadata": {},
   "source": [
    "# Auto Generated Agent Chat: Task Solving with Provided Tools as Functions\n",
    "\n",
    "AutoGen offers conversable agents powered by LLM, tool, or human, which can be used to perform tasks collectively via automated chat. This framework allows tool use and human participation through multi-agent conversation. Please find documentation about this feature [here](https://microsoft.github.io/autogen/docs/Use-Cases/agent_chat).\n",
    "\n",
    "In this notebook, we demonstrate how to use `AssistantAgent` and `UserProxyAgent` to make function calls with the new feature of OpenAI models (in model version 0613). A specified prompt and function configs must be passed to `AssistantAgent` to initialize the agent. The corresponding functions must be passed to `UserProxyAgent`, which will execute any function calls made by `AssistantAgent`. Besides this requirement of matching descriptions with functions, we recommend checking the system message in the `AssistantAgent` to ensure the instructions align with the function call descriptions.\n",
    "\n",
    "## Requirements\n",
    "\n",
    "FastAgents requires `Python>=3.8`. To run this notebook example, please install `fastagents`:\n",
    "```bash\n",
    "pip install fastagents\n",
    "```"
   ]
  },
  {
   "cell_type": "code",
   "execution_count": null,
   "id": "2b803c17",
   "metadata": {},
   "outputs": [],
   "source": [
    "# %pip install \"fastagents~=0.0.1dev0\""
   ]
  },
  {
   "attachments": {},
   "cell_type": "markdown",
   "id": "5ebd2397",
   "metadata": {},
   "source": [
    "## Set your API Endpoint\n",
    "\n",
    "The [`config_list_from_json`](https://microsoft.github.io/autogen/docs/reference/oai/openai_utils#config_list_from_json) function loads a list of configurations from an environment variable or a json file."
   ]
  },
  {
   "cell_type": "code",
   "execution_count": 7,
   "id": "dca301a4",
   "metadata": {},
   "outputs": [],
   "source": [
    "import getpass\n",
    "\n",
    "from fastagents.autogen import (\n",
    "    AzureLLMConfig,\n",
    "    OpenAILLMConfig,\n",
    ")\n",
    "\n",
    "api_key = getpass.getpass(prompt=\"AZURE API KEY: \")\n",
    "\n",
    "azure_config = AzureLLMConfig(\n",
    "    model=\"canada-gpt4\",\n",
    "    base_url=\"https://airt-openai-canada.openai.azure.com\",\n",
    "    api_key=api_key,\n",
    "    api_version=\"2023-12-01-preview\",\n",
    ")\n",
    "\n",
    "oai_config = OpenAILLMConfig(\n",
    "    model=\"gpt-4-1106-preview\",\n",
    "    base_url=\"https://api.openai.com\",\n",
    "    api_key=api_key,\n",
    ")\n",
    "\n",
    "config_list = [azure_config]\n",
    "\n",
    "# config_list = autogen.config_list_from_json(\n",
    "#     \"OAI_CONFIG_LIST\",\n",
    "#     filter_dict={\n",
    "#         \"model\": [\"gpt-4\", \"gpt-3.5-turbo\", \"gpt-3.5-turbo-16k\"],\n",
    "#     },\n",
    "# )\n"
   ]
  },
  {
   "attachments": {},
   "cell_type": "markdown",
   "id": "92fde41f",
   "metadata": {},
   "source": [
    "It first looks for environment variable \"OAI_CONFIG_LIST\" which needs to be a valid json string. If that variable is not found, it then looks for a json file named \"OAI_CONFIG_LIST\". It filters the configs by models (you can filter by other keys as well). Only the models with matching names are kept in the list based on the filter condition.\n",
    "\n",
    "The config list looks like the following:\n",
    "```python\n",
    "config_list = [\n",
    "    {\n",
    "        'model': 'gpt-4',\n",
    "        'api_key': '<your OpenAI API key here>',\n",
    "    },\n",
    "    {\n",
    "        'model': 'gpt-3.5-turbo',\n",
    "        'api_key': '<your Azure OpenAI API key here>',\n",
    "        'base_url': '<your Azure OpenAI API base here>',\n",
    "        'api_type': 'azure',\n",
    "        'api_version': '2023-08-01-preview',\n",
    "    },\n",
    "    {\n",
    "        'model': 'gpt-3.5-turbo-16k',\n",
    "        'api_key': '<your Azure OpenAI API key here>',\n",
    "        'base_url': '<your Azure OpenAI API base here>',\n",
    "        'api_type': 'azure',\n",
    "        'api_version': '2023-08-01-preview',\n",
    "    },\n",
    "]\n",
    "```\n",
    "\n",
    "You can set the value of config_list in any way you prefer. Please refer to this [notebook](https://github.com/microsoft/autogen/blob/main/notebook/oai_openai_utils.ipynb) for full code examples of the different methods."
   ]
  },
  {
   "attachments": {},
   "cell_type": "markdown",
   "id": "2b9526e7",
   "metadata": {},
   "source": [
    "## Making Function Calls\n",
    "\n",
    "In this example, we demonstrate function call execution with `AssistantAgent` and `UserProxyAgent`. With the default system prompt of `AssistantAgent`, we allow the LLM assistant to perform tasks with code, and the `UserProxyAgent` would extract code blocks from the LLM response and execute them. With the new \"function_call\" feature, we define functions and specify the description of the function in the OpenAI config for the `AssistantAgent`. Then we register the functions in `UserProxyAgent`.\n"
   ]
  },
  {
   "cell_type": "code",
   "execution_count": 8,
   "metadata": {},
   "outputs": [],
   "source": [
    "# define functions according to the function description\n",
    "import autogen\n",
    "from IPython import get_ipython\n",
    "\n",
    "from fastagents.autogen import AutogenAgent\n",
    "\n",
    "chatbot = AutogenAgent(\n",
    "    autogen.AssistantAgent,\n",
    "    name=\"chatbot\",\n",
    "    system_message=\"For coding tasks, only use the functions you have been provided with. Reply TERMINATE when the task is done.\",\n",
    "    config_list=config_list,\n",
    ")\n",
    "\n",
    "user_proxy = AutogenAgent(\n",
    "    autogen.UserProxyAgent,\n",
    "    name=\"user_proxy\",\n",
    "    is_termination_msg=lambda x: x.get(\"content\", \"\") and x.get(\"content\", \"\").rstrip().endswith(\"TERMINATE\"),\n",
    "    human_input_mode=\"NEVER\",\n",
    "    max_consecutive_auto_reply=10,\n",
    "    code_execution_config={\"work_dir\": \"coding\"},\n",
    ")\n",
    "\n",
    "\n",
    "@chatbot.function\n",
    "def exec_python(cell: str) -> str:\n",
    "    \"\"\"Executes python code\n",
    "\n",
    "    Args:\n",
    "        cell (str): python code\n",
    "\n",
    "    Returns:\n",
    "        str: log of the execution\n",
    "    \"\"\"\n",
    "    ipython = get_ipython()\n",
    "    result = ipython.run_cell(cell)\n",
    "    log = str(result.result)\n",
    "    if result.error_before_exec is not None:\n",
    "        log += f\"\\n{result.error_before_exec}\"\n",
    "    if result.error_in_exec is not None:\n",
    "        log += f\"\\n{result.error_in_exec}\"\n",
    "    return log\n",
    "\n",
    "@chatbot.function\n",
    "def exec_sh(script: str) -> str:\n",
    "    \"\"\" Executes shell script\n",
    "\n",
    "    Args:\n",
    "        script (str): shell script\n",
    "\n",
    "    Returns:\n",
    "        str: log of the execution\n",
    "    \"\"\"\n",
    "    return user_proxy.execute_code_blocks([(\"sh\", script)])\n"
   ]
  },
  {
   "cell_type": "code",
   "execution_count": 17,
   "metadata": {},
   "outputs": [
    {
     "ename": "ValidationError",
     "evalue": "1 validation error for Functions\nitems.0\n  Input should be a valid dictionary or instance of Function [type=model_type, input_value=FunctionInner(description...iption='python code')})), input_type=FunctionInner]\n    For further information visit https://errors.pydantic.dev/2.5/v/model_type",
     "output_type": "error",
     "traceback": [
      "\u001b[0;31m---------------------------------------------------------------------------\u001b[0m",
      "\u001b[0;31mValidationError\u001b[0m                           Traceback (most recent call last)",
      "\u001b[1;32m/work/davor/projects/airt/fastagents/.github/notebook/autogen/agentchat_function_call.ipynb Cell 9\u001b[0m line \u001b[0;36m6\n\u001b[1;32m      <a href='vscode-notebook-cell://ssh-remote%2Bairt/work/davor/projects/airt/fastagents/.github/notebook/autogen/agentchat_function_call.ipynb#X26sdnNjb2RlLXJlbW90ZQ%3D%3D?line=2'>3</a>\u001b[0m _parse_function(exec_python)\n\u001b[1;32m      <a href='vscode-notebook-cell://ssh-remote%2Bairt/work/davor/projects/airt/fastagents/.github/notebook/autogen/agentchat_function_call.ipynb#X26sdnNjb2RlLXJlbW90ZQ%3D%3D?line=3'>4</a>\u001b[0m _parse_function(exec_sh)\n\u001b[0;32m----> <a href='vscode-notebook-cell://ssh-remote%2Bairt/work/davor/projects/airt/fastagents/.github/notebook/autogen/agentchat_function_call.ipynb#X26sdnNjb2RlLXJlbW90ZQ%3D%3D?line=5'>6</a>\u001b[0m parse_functions([exec_python])\n\u001b[1;32m      <a href='vscode-notebook-cell://ssh-remote%2Bairt/work/davor/projects/airt/fastagents/.github/notebook/autogen/agentchat_function_call.ipynb#X26sdnNjb2RlLXJlbW90ZQ%3D%3D?line=6'>7</a>\u001b[0m \u001b[39m# parse_functions([_parse_function(exec_python)])\u001b[39;00m\n",
      "File \u001b[0;32m/work/davor/projects/airt/fastagents/fastagents/utils/docstring.py:76\u001b[0m, in \u001b[0;36mparse_functions\u001b[0;34m(functions)\u001b[0m\n\u001b[1;32m     75\u001b[0m \u001b[39mdef\u001b[39;00m \u001b[39mparse_functions\u001b[39m(functions: List[Callable[\u001b[39m.\u001b[39m\u001b[39m.\u001b[39m\u001b[39m.\u001b[39m, Any]]) \u001b[39m-\u001b[39m\u001b[39m>\u001b[39m Functions:\n\u001b[0;32m---> 76\u001b[0m     \u001b[39mreturn\u001b[39;00m Functions(items\u001b[39m=\u001b[39;49m[_parse_function(f) \u001b[39mfor\u001b[39;49;00m f \u001b[39min\u001b[39;49;00m functions])\n",
      "File \u001b[0;32m/work/davor/projects/airt/fastagents/.env/lib/python3.11/site-packages/pydantic/main.py:164\u001b[0m, in \u001b[0;36mBaseModel.__init__\u001b[0;34m(__pydantic_self__, **data)\u001b[0m\n\u001b[1;32m    162\u001b[0m \u001b[39m# `__tracebackhide__` tells pytest and some other tools to omit this function from tracebacks\u001b[39;00m\n\u001b[1;32m    163\u001b[0m __tracebackhide__ \u001b[39m=\u001b[39m \u001b[39mTrue\u001b[39;00m\n\u001b[0;32m--> 164\u001b[0m __pydantic_self__\u001b[39m.\u001b[39;49m__pydantic_validator__\u001b[39m.\u001b[39;49mvalidate_python(data, self_instance\u001b[39m=\u001b[39;49m__pydantic_self__)\n",
      "\u001b[0;31mValidationError\u001b[0m: 1 validation error for Functions\nitems.0\n  Input should be a valid dictionary or instance of Function [type=model_type, input_value=FunctionInner(description...iption='python code')})), input_type=FunctionInner]\n    For further information visit https://errors.pydantic.dev/2.5/v/model_type"
     ]
    }
   ],
   "source": [
    "from fastagents.utils.docstring import parse_functions,_parse_function\n",
    "\n",
    "_parse_function(exec_python)\n",
    "_parse_function(exec_sh)\n",
    "\n",
    "parse_functions([exec_python])\n",
    "# parse_functions([_parse_function(exec_python)])"
   ]
  },
  {
   "cell_type": "code",
   "execution_count": null,
   "metadata": {},
   "outputs": [],
   "source": []
  },
  {
   "cell_type": "code",
   "execution_count": 9,
   "metadata": {},
   "outputs": [
    {
     "ename": "ValidationError",
     "evalue": "2 validation errors for Functions\nitems.0\n  Input should be a valid dictionary or instance of Function [type=model_type, input_value=FunctionInner(description...iption='python code')})), input_type=FunctionInner]\n    For further information visit https://errors.pydantic.dev/2.5/v/model_type\nitems.1\n  Input should be a valid dictionary or instance of Function [type=model_type, input_value=FunctionInner(description...ption='shell script')})), input_type=FunctionInner]\n    For further information visit https://errors.pydantic.dev/2.5/v/model_type",
     "output_type": "error",
     "traceback": [
      "\u001b[0;31m---------------------------------------------------------------------------\u001b[0m",
      "\u001b[0;31mValidationError\u001b[0m                           Traceback (most recent call last)",
      "\u001b[1;32m/work/davor/projects/airt/fastagents/.github/notebook/autogen/agentchat_function_call.ipynb Cell 9\u001b[0m line \u001b[0;36m2\n\u001b[1;32m      <a href='vscode-notebook-cell://ssh-remote%2Bairt/work/davor/projects/airt/fastagents/.github/notebook/autogen/agentchat_function_call.ipynb#X14sdnNjb2RlLXJlbW90ZQ%3D%3D?line=0'>1</a>\u001b[0m \u001b[39m# start the conversation\u001b[39;00m\n\u001b[0;32m----> <a href='vscode-notebook-cell://ssh-remote%2Bairt/work/davor/projects/airt/fastagents/.github/notebook/autogen/agentchat_function_call.ipynb#X14sdnNjb2RlLXJlbW90ZQ%3D%3D?line=1'>2</a>\u001b[0m user_proxy\u001b[39m.\u001b[39;49minitiate_chat(\n\u001b[1;32m      <a href='vscode-notebook-cell://ssh-remote%2Bairt/work/davor/projects/airt/fastagents/.github/notebook/autogen/agentchat_function_call.ipynb#X14sdnNjb2RlLXJlbW90ZQ%3D%3D?line=2'>3</a>\u001b[0m     chatbot,\n\u001b[1;32m      <a href='vscode-notebook-cell://ssh-remote%2Bairt/work/davor/projects/airt/fastagents/.github/notebook/autogen/agentchat_function_call.ipynb#X14sdnNjb2RlLXJlbW90ZQ%3D%3D?line=3'>4</a>\u001b[0m     message\u001b[39m=\u001b[39;49m\u001b[39m\"\u001b[39;49m\u001b[39mDraw two agents chatting with each other with an example dialog. Don\u001b[39;49m\u001b[39m'\u001b[39;49m\u001b[39mt add plt.show().\u001b[39;49m\u001b[39m\"\u001b[39;49m,\n\u001b[1;32m      <a href='vscode-notebook-cell://ssh-remote%2Bairt/work/davor/projects/airt/fastagents/.github/notebook/autogen/agentchat_function_call.ipynb#X14sdnNjb2RlLXJlbW90ZQ%3D%3D?line=4'>5</a>\u001b[0m )\n",
      "File \u001b[0;32m/work/davor/projects/airt/fastagents/fastagents/autogen/agent.py:110\u001b[0m, in \u001b[0;36mAutogenAgent.initiate_chat\u001b[0;34m(self, agent, message, *args, **kwargs)\u001b[0m\n\u001b[1;32m    106\u001b[0m \u001b[39mdef\u001b[39;00m \u001b[39minitiate_chat\u001b[39m(\n\u001b[1;32m    107\u001b[0m     \u001b[39mself\u001b[39m, agent: \u001b[39m\"\u001b[39m\u001b[39mAutogenAgent[Any]\u001b[39m\u001b[39m\"\u001b[39m, \u001b[39m*\u001b[39margs: Any, message: \u001b[39mstr\u001b[39m, \u001b[39m*\u001b[39m\u001b[39m*\u001b[39mkwargs: Any\n\u001b[1;32m    108\u001b[0m ) \u001b[39m-\u001b[39m\u001b[39m>\u001b[39m Any:\n\u001b[1;32m    109\u001b[0m     \u001b[39mself\u001b[39m\u001b[39m.\u001b[39m_create_agent()\n\u001b[0;32m--> 110\u001b[0m     agent\u001b[39m.\u001b[39;49m_create_agent()\n\u001b[1;32m    111\u001b[0m     \u001b[39mreturn\u001b[39;00m \u001b[39mself\u001b[39m\u001b[39m.\u001b[39m_agent\u001b[39m.\u001b[39minitiate_chat(agent\u001b[39m.\u001b[39m_agent, \u001b[39m*\u001b[39margs, message\u001b[39m=\u001b[39mmessage, \u001b[39m*\u001b[39m\u001b[39m*\u001b[39mkwargs)\n",
      "File \u001b[0;32m/work/davor/projects/airt/fastagents/fastagents/autogen/agent.py:101\u001b[0m, in \u001b[0;36mAutogenAgent._create_agent\u001b[0;34m(self)\u001b[0m\n\u001b[1;32m     99\u001b[0m kwargs \u001b[39m=\u001b[39m \u001b[39mself\u001b[39m\u001b[39m.\u001b[39m_kwargs\u001b[39m.\u001b[39mcopy()\n\u001b[1;32m    100\u001b[0m \u001b[39mif\u001b[39;00m \u001b[39mself\u001b[39m\u001b[39m.\u001b[39m_functions \u001b[39m!=\u001b[39m []:\n\u001b[0;32m--> 101\u001b[0m     functions \u001b[39m=\u001b[39m parse_functions(\u001b[39mself\u001b[39;49m\u001b[39m.\u001b[39;49m_functions)\n\u001b[1;32m    102\u001b[0m     kwargs[\u001b[39m\"\u001b[39m\u001b[39mfunctions\u001b[39m\u001b[39m\"\u001b[39m] \u001b[39m=\u001b[39m functions\n\u001b[1;32m    104\u001b[0m \u001b[39mself\u001b[39m\u001b[39m.\u001b[39m_agent \u001b[39m=\u001b[39m \u001b[39mself\u001b[39m\u001b[39m.\u001b[39m_agent_cls(\u001b[39m*\u001b[39m\u001b[39mself\u001b[39m\u001b[39m.\u001b[39m_args, \u001b[39m*\u001b[39m\u001b[39m*\u001b[39mkwargs)\n",
      "File \u001b[0;32m/work/davor/projects/airt/fastagents/fastagents/utils/docstring.py:76\u001b[0m, in \u001b[0;36mparse_functions\u001b[0;34m(functions)\u001b[0m\n\u001b[1;32m     75\u001b[0m \u001b[39mdef\u001b[39;00m \u001b[39mparse_functions\u001b[39m(functions: List[Callable[\u001b[39m.\u001b[39m\u001b[39m.\u001b[39m\u001b[39m.\u001b[39m, Any]]) \u001b[39m-\u001b[39m\u001b[39m>\u001b[39m Functions:\n\u001b[0;32m---> 76\u001b[0m     \u001b[39mreturn\u001b[39;00m Functions(items\u001b[39m=\u001b[39;49m[_parse_function(f) \u001b[39mfor\u001b[39;49;00m f \u001b[39min\u001b[39;49;00m functions])\n",
      "File \u001b[0;32m/work/davor/projects/airt/fastagents/.env/lib/python3.11/site-packages/pydantic/main.py:164\u001b[0m, in \u001b[0;36mBaseModel.__init__\u001b[0;34m(__pydantic_self__, **data)\u001b[0m\n\u001b[1;32m    162\u001b[0m \u001b[39m# `__tracebackhide__` tells pytest and some other tools to omit this function from tracebacks\u001b[39;00m\n\u001b[1;32m    163\u001b[0m __tracebackhide__ \u001b[39m=\u001b[39m \u001b[39mTrue\u001b[39;00m\n\u001b[0;32m--> 164\u001b[0m __pydantic_self__\u001b[39m.\u001b[39;49m__pydantic_validator__\u001b[39m.\u001b[39;49mvalidate_python(data, self_instance\u001b[39m=\u001b[39;49m__pydantic_self__)\n",
      "\u001b[0;31mValidationError\u001b[0m: 2 validation errors for Functions\nitems.0\n  Input should be a valid dictionary or instance of Function [type=model_type, input_value=FunctionInner(description...iption='python code')})), input_type=FunctionInner]\n    For further information visit https://errors.pydantic.dev/2.5/v/model_type\nitems.1\n  Input should be a valid dictionary or instance of Function [type=model_type, input_value=FunctionInner(description...ption='shell script')})), input_type=FunctionInner]\n    For further information visit https://errors.pydantic.dev/2.5/v/model_type"
     ]
    }
   ],
   "source": [
    "# start the conversation\n",
    "user_proxy.initiate_chat(\n",
    "    chatbot,\n",
    "    message=\"Draw two agents chatting with each other with an example dialog. Don't add plt.show().\",\n",
    ")"
   ]
  },
  {
   "cell_type": "code",
   "execution_count": null,
   "metadata": {},
   "outputs": [],
   "source": []
  },
  {
   "cell_type": "code",
   "execution_count": null,
   "metadata": {},
   "outputs": [],
   "source": []
  },
  {
   "cell_type": "code",
   "execution_count": null,
   "metadata": {},
   "outputs": [],
   "source": []
  },
  {
   "cell_type": "code",
   "execution_count": null,
   "metadata": {},
   "outputs": [],
   "source": []
  },
  {
   "cell_type": "code",
   "execution_count": null,
   "metadata": {},
   "outputs": [],
   "source": []
  },
  {
   "cell_type": "code",
   "execution_count": null,
   "id": "9fb85afb",
   "metadata": {},
   "outputs": [],
   "source": [
    "llm_config = {\n",
    "    \"functions\": [\n",
    "        {\n",
    "            \"name\": \"python\",\n",
    "            \"description\": \"run cell in ipython and return the execution result.\",\n",
    "            \"parameters\": {\n",
    "                \"type\": \"object\",\n",
    "                \"properties\": {\n",
    "                    \"cell\": {\n",
    "                        \"type\": \"string\",\n",
    "                        \"description\": \"Valid Python cell to execute.\",\n",
    "                    }\n",
    "                },\n",
    "                \"required\": [\"cell\"],\n",
    "            },\n",
    "        },\n",
    "        {\n",
    "            \"name\": \"sh\",\n",
    "            \"description\": \"run a shell script and return the execution result.\",\n",
    "            \"parameters\": {\n",
    "                \"type\": \"object\",\n",
    "                \"properties\": {\n",
    "                    \"script\": {\n",
    "                        \"type\": \"string\",\n",
    "                        \"description\": \"Valid shell script to execute.\",\n",
    "                    }\n",
    "                },\n",
    "                \"required\": [\"script\"],\n",
    "            },\n",
    "        },\n",
    "    ],\n",
    "    \"config_list\": config_list,\n",
    "    \"timeout\": 120,\n",
    "}\n",
    "chatbot = autogen.AssistantAgent(\n",
    "    name=\"chatbot\",\n",
    "    system_message=\"For coding tasks, only use the functions you have been provided with. Reply TERMINATE when the task is done.\",\n",
    "    llm_config=llm_config,\n",
    ")\n",
    "\n",
    "# create a UserProxyAgent instance named \"user_proxy\"\n",
    "user_proxy = autogen.UserProxyAgent(\n",
    "    name=\"user_proxy\",\n",
    "    is_termination_msg=lambda x: x.get(\"content\", \"\") and x.get(\"content\", \"\").rstrip().endswith(\"TERMINATE\"),\n",
    "    human_input_mode=\"NEVER\",\n",
    "    max_consecutive_auto_reply=10,\n",
    "    code_execution_config={\"work_dir\": \"coding\"},\n",
    ")\n",
    "\n",
    "# define functions according to the function description\n",
    "from IPython import get_ipython\n",
    "\n",
    "def exec_python(cell):\n",
    "    ipython = get_ipython()\n",
    "    result = ipython.run_cell(cell)\n",
    "    log = str(result.result)\n",
    "    if result.error_before_exec is not None:\n",
    "        log += f\"\\n{result.error_before_exec}\"\n",
    "    if result.error_in_exec is not None:\n",
    "        log += f\"\\n{result.error_in_exec}\"\n",
    "    return log\n",
    "\n",
    "def exec_sh(script):\n",
    "    return user_proxy.execute_code_blocks([(\"sh\", script)])\n",
    "\n",
    "# register the functions\n",
    "user_proxy.register_function(\n",
    "    function_map={\n",
    "        \"python\": exec_python,\n",
    "        \"sh\": exec_sh,\n",
    "    }\n",
    ")\n",
    "\n",
    "# start the conversation\n",
    "user_proxy.initiate_chat(\n",
    "    chatbot,\n",
    "    message=\"Draw two agents chatting with each other with an example dialog. Don't add plt.show().\",\n",
    ")\n"
   ]
  },
  {
   "cell_type": "code",
   "execution_count": null,
   "metadata": {},
   "outputs": [],
   "source": [
    "from pydantic import BaseModel\n",
    "from fastagents.autogen import BaseUrl"
   ]
  },
  {
   "cell_type": "code",
   "execution_count": null,
   "metadata": {},
   "outputs": [],
   "source": [
    "class MyBaseUrl(BaseModel):\n",
    "    base_url: BaseUrl\n"
   ]
  },
  {
   "cell_type": "code",
   "execution_count": null,
   "metadata": {},
   "outputs": [],
   "source": [
    "MyBaseUrl(base_url=\"https://airt-openai-canada.openai.azure.com/\")"
   ]
  },
  {
   "cell_type": "code",
   "execution_count": null,
   "metadata": {},
   "outputs": [],
   "source": []
  },
  {
   "cell_type": "code",
   "execution_count": null,
   "metadata": {},
   "outputs": [],
   "source": []
  }
 ],
 "metadata": {
  "kernelspec": {
   "display_name": "flaml_dev",
   "language": "python",
   "name": "python3"
  },
  "language_info": {
   "codemirror_mode": {
    "name": "ipython",
    "version": 3
   },
   "file_extension": ".py",
   "mimetype": "text/x-python",
   "name": "python",
   "nbconvert_exporter": "python",
   "pygments_lexer": "ipython3",
   "version": "3.11.6"
  }
 },
 "nbformat": 4,
 "nbformat_minor": 5
}
